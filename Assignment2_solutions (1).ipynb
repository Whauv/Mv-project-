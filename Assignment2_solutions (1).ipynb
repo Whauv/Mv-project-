{
  "cells": [
    {
      "cell_type": "markdown",
      "id": "b0675529-ab2d-4a11-8d52-51471d507750",
      "metadata": {
        "id": "b0675529-ab2d-4a11-8d52-51471d507750"
      },
      "source": [
        "## Q1:\n",
        "##\n",
        "A retail store management wants to automate the generation of customer bill amounts. As an initial step, they want to initialize the bill details of a customer as given: The bill ID should be 1001, the customer ID should be 101, and the bill amount should be 199.99. After initializing, all the values must be displayed in the format given below:\n",
        "##\n",
        "\n",
        "bill id:100## 1\n",
        "\n",
        "customer id: ## 101\n",
        "\n",
        "bill amount: rs.199.99"
      ]
    },
    {
      "cell_type": "code",
      "execution_count": null,
      "id": "19f2681e-ffba-456a-87ee-f346952ffe45",
      "metadata": {
        "id": "19f2681e-ffba-456a-87ee-f346952ffe45",
        "outputId": "8e74398b-ad01-4952-d83a-0517e3934ed5"
      },
      "outputs": [
        {
          "name": "stdout",
          "output_type": "stream",
          "text": [
            "\n",
            "bill id: 1001\n",
            "customer id: 101\n",
            "bill amount: rs.199.99\n"
          ]
        }
      ],
      "source": [
        "# Initialize the bill details\n",
        "bill_id = 1001\n",
        "customer_id = 101\n",
        "bill_amount = 199.99\n",
        "\n",
        "\n",
        "# Display the bill details\n",
        "print(f\"\\nbill id: {bill_id}\") # This is a formatted string, introduced in Python 3.6 and more, that allows variables to be embedded within {} inside the string.\n",
        "print(f\"customer id: {customer_id}\")\n",
        "print(f\"bill amount: rs.{bill_amount:.2f}\")"
      ]
    },
    {
      "cell_type": "markdown",
      "id": "20063ec8-01ab-440c-9129-0a3dfee073f0",
      "metadata": {
        "id": "20063ec8-01ab-440c-9129-0a3dfee073f0"
      },
      "source": [
        "## Q2)\n",
        "##\n",
        "Suppose the retail store management now wants to provide a discount for all bill amounts as mentioned below.\n",
        "##\n",
        "\n",
        "Bill Amount ---- Disnt utn## %\n",
        "\n",
        "(>=1000) -------## - 5\n",
        "\n",
        "(>=500 and <1000)##  -- 2\n",
        "\n",
        "(>0 and <50## 0) -- 1\n",
        "\n",
        "Also, an additional 2% discount for the customers having membership (Say membership customer IDs start from 101 to 1000 (both inclusive). Write a Python program for the above."
      ]
    },
    {
      "cell_type": "markdown",
      "id": "6ac0b0db-d0d8-48b4-96ef-f6eb6dc6b6ad",
      "metadata": {
        "id": "6ac0b0db-d0d8-48b4-96ef-f6eb6dc6b6ad"
      },
      "source": [
        "## Solution Approach:\n",
        "## Take inputs: Bill ID, Customer ID, and Bill Amount.\n",
        "\n",
        "## Determine the base discount based on the bill amount.\n",
        "\n",
        "## Check if the customer has a membership and apply an additional 2% discount if applicable.\n",
        "\n",
        "## Calculate the final payable amount after applying the discount.\n",
        "\n",
        "## Display the details in the required format."
      ]
    },
    {
      "cell_type": "code",
      "execution_count": null,
      "id": "7a72b3c1-0e1c-4598-8200-e526acc11ec7",
      "metadata": {
        "id": "7a72b3c1-0e1c-4598-8200-e526acc11ec7",
        "outputId": "86997384-b76a-41e5-b02f-cca0511f9b9d"
      },
      "outputs": [
        {
          "name": "stdout",
          "output_type": "stream",
          "text": [
            "\n",
            "bill id: 1002\n",
            "customer id: 150\n",
            "bill amount: rs.750.00\n",
            "discount applied: 4%\n",
            "discount amount: rs.30.00\n",
            "final amount to be paid: rs.720.00\n"
          ]
        }
      ],
      "source": [
        "# Enter Details\n",
        "bill_id = 1002\n",
        "customer_id = 150  # Membership customer\n",
        "bill_amount = 750\n",
        "# bill_id = int(input(\"Enter bill_id: \")) # Input from the manager\n",
        "# customer_id = int(input(\"Enter customer_id: \")) # Input from the manager\n",
        "# bill_amount = float(input(\"Enter bill_amount: \")) # Input from the manager\n",
        "\n",
        "# Determine base discount\n",
        "if bill_amount >= 1000:\n",
        "    discount_percentage = 5\n",
        "elif bill_amount >= 500:\n",
        "    discount_percentage = 2\n",
        "else:\n",
        "    discount_percentage = 1\n",
        "\n",
        "# Additional membership discount\n",
        "if 101 <= customer_id <= 1000:\n",
        "    discount_percentage += 2  # Additional 2% for membership customers\n",
        "\n",
        "# Calculate total discount amount\n",
        "discount_amount = (discount_percentage / 100) * bill_amount\n",
        "final_amount = bill_amount - discount_amount\n",
        "\n",
        "# Display the bill details\n",
        "print(f\"\\nbill id: {bill_id}\")\n",
        "print(f\"customer id: {customer_id}\")\n",
        "print(f\"bill amount: rs.{bill_amount:.2f}\")\n",
        "print(f\"discount applied: {discount_percentage}%\")\n",
        "print(f\"discount amount: rs.{discount_amount:.2f}\")\n",
        "print(f\"final amount to be paid: rs.{final_amount:.2f}\")"
      ]
    },
    {
      "cell_type": "markdown",
      "id": "e27f1369-9894-4003-af4b-ddf69a916b15",
      "metadata": {
        "id": "e27f1369-9894-4003-af4b-ddf69a916b15"
      },
      "source": [
        "## Q3: The finance department of a company wants to calculate the monthly net pay of one of  its employees by finding the income tax to be paid (in Indian Rupees) and the net salary after  the income tax deduction. The employee should pay income tax if his monthly gross salary is more than Rs. 5,000 (Indian Rupees) and the percentage of income tax should be considered as per the below slab. Display the employee ID, basic salary, allowances, gross pay, income\n",
        "\n",
        "## Gross Salary(In indian Rupees) --- Income Tax percentage\n",
        "\n",
        "## Below 5,000 --- Nil\n",
        "\n",
        "## 5,001 to 10,000 --- 10%\n",
        "\n",
        "## 10,001 to 20,000 --- 20%\n",
        "\n",
        "## More than 20,000 --- 30%\n",
        "\n",
        "## tax and net pay.\n",
        "\n",
        "## Note:\n",
        "## Employee ID must be considered as 1001,  The basic salary of the employee must be regarded as Rs.15000.00 and Allowances must be considered as Rs.6000.00. Write a Python program to solve the above real-world problem. Refer to below for the formulae to be used.\n",
        "\n",
        "## Monthly Gross Salary = Basic Salary + Allowances\n",
        "## Net Salary= Gross Salary- Income Tax\n"
      ]
    },
    {
      "cell_type": "code",
      "execution_count": null,
      "id": "025a531d-f07e-429f-b040-2b221313de62",
      "metadata": {
        "id": "025a531d-f07e-429f-b040-2b221313de62",
        "outputId": "9c28bb5e-ffba-4988-f65c-d2ba9d7672f2"
      },
      "outputs": [
        {
          "name": "stdout",
          "output_type": "stream",
          "text": [
            "Employee ID: 1001\n",
            "Basic Salary: 15000.0\n",
            "Allowances: 6000.0\n",
            "Gross Salary: 21000.0\n",
            "Income Tax: 6300.0\n",
            "Net Salary: 14700.0\n"
          ]
        }
      ],
      "source": [
        "# Define employee details\n",
        "employee_id = 1001\n",
        "basic_salary = 15000.00\n",
        "allowances = 6000.00\n",
        "\n",
        "# Calculate Gross Salary\n",
        "gross_salary = basic_salary + allowances\n",
        "\n",
        "# Determine Income Tax percentage\n",
        "if gross_salary <= 5000:\n",
        "    income_tax_percentage = 0\n",
        "elif gross_salary <= 10000:\n",
        "    income_tax_percentage = 10\n",
        "elif gross_salary <= 20000:\n",
        "    income_tax_percentage = 20\n",
        "else:\n",
        "    income_tax_percentage = 30\n",
        "\n",
        "# Calculate Income Tax\n",
        "income_tax = (income_tax_percentage / 100) * gross_salary\n",
        "\n",
        "# Calculate Net Salary\n",
        "net_salary = gross_salary - income_tax\n",
        "\n",
        "# Display results\n",
        "print(\"Employee ID:\", employee_id)\n",
        "print(\"Basic Salary:\", basic_salary)\n",
        "print(\"Allowances:\", allowances)\n",
        "print(\"Gross Salary:\", gross_salary)\n",
        "print(\"Income Tax:\", income_tax)\n",
        "print(\"Net Salary:\", net_salary)"
      ]
    },
    {
      "cell_type": "markdown",
      "id": "b06653b7-a69d-42d9-aff9-56e782e3d72d",
      "metadata": {
        "id": "b06653b7-a69d-42d9-aff9-56e782e3d72d"
      },
      "source": [
        "## Q4 : Generate N random numbers in the range(a, b) and map it to the range(c, d) with 4 decimal place precision.\n",
        "## Store the results in a file in the following format:\n",
        "N, a, b:\n",
        "n1, n2, n3, …… nN\n",
        "N, c, d:\n",
        "n1, n2, n3, …... nN\n"
      ]
    },
    {
      "cell_type": "code",
      "execution_count": null,
      "id": "4c11644c-6753-4284-87c6-938315588889",
      "metadata": {
        "id": "4c11644c-6753-4284-87c6-938315588889",
        "outputId": "cabb3f44-6939-4db0-ad28-fd2902d46645"
      },
      "outputs": [
        {
          "name": "stdout",
          "output_type": "stream",
          "text": [
            "Results have been stored in 'Mapping6.txt'\n"
          ]
        }
      ],
      "source": [
        "import random\n",
        "N = 10  # Number of random numbers\n",
        "a, b = 0, 10  # Range for random numbers\n",
        "c, d = 20, 30  # Range for mapped numbers\n",
        "\n",
        "random_numbers = []\n",
        "for _ in range(N):\n",
        "    number = random.uniform(a, b)\n",
        "    rounded_number = round(number, 4)\n",
        "    random_numbers.append(rounded_number)\n",
        "\n",
        "mapped_numbers = []\n",
        "for n in random_numbers:\n",
        "    # Min Max Scaling formula\n",
        "    number = round(c + (n - a) * (d - c) / (b - a), 4)  # (d-c)/(b-a): ratio,  (n-a): shifting of number to start from zero t\n",
        "    mapped_numbers.append(number)\n",
        "\n",
        "\n",
        "filename='Mapping6.txt' #The file will be created if it does not exist or overwritten if it does.\n",
        "with open(filename, 'w') as file:\n",
        "    file.write(f'{N}, {a}, {b}:\\n')\n",
        "    file.write(', '.join(map(str, random_numbers)) + '\\n') # join() is a string method that concatenates a list of strings.\n",
        "                                                               # The ', ' before join specifies that the strings should be joined with a comma and space between them.\n",
        "                                                               # map (): It converts each number in the list to its string representation.\n",
        "    file.write(f'{N}, {c}, {d}:\\n')\n",
        "    file.write(', '.join(map(str, mapped_numbers)) + '\\n')\n",
        "\n",
        "\n",
        "print(\"Results have been stored in 'Mapping6.txt'\")"
      ]
    },
    {
      "cell_type": "markdown",
      "id": "bd7da652-737c-4572-9c2d-f0bfb8d962f9",
      "metadata": {
        "id": "bd7da652-737c-4572-9c2d-f0bfb8d962f9"
      },
      "source": [
        "## Q5:\n",
        "## Write a program that reads a text file and counts the number of words in it."
      ]
    },
    {
      "cell_type": "code",
      "execution_count": null,
      "id": "7d53f691-bf0f-4e46-b7bb-95961430811e",
      "metadata": {
        "id": "7d53f691-bf0f-4e46-b7bb-95961430811e",
        "outputId": "3710d3ea-a253-4e37-d52c-8f316e3e60c8"
      },
      "outputs": [
        {
          "name": "stdout",
          "output_type": "stream",
          "text": [
            "Total number of words in 'sample2.txt': 423\n"
          ]
        }
      ],
      "source": [
        "# Open the text file and count words\n",
        "file_path = \"sample2.txt\"  # Change this to your actual file path\n",
        "\n",
        "with open(file_path, \"r\", encoding=\"utf-8\") as file:\n",
        "    text = file.read()\n",
        "    words = text.split()  # Splitting text into words using spaces, newlines, or tabs as separators.\n",
        "    word_count = len(words)\n",
        "\n",
        "print(f\"Total number of words in '{file_path}': {word_count}\")\n"
      ]
    },
    {
      "cell_type": "markdown",
      "id": "7ad334a8-8c69-4d08-bf15-c93015102970",
      "metadata": {
        "id": "7ad334a8-8c69-4d08-bf15-c93015102970"
      },
      "source": [
        "## Q6:\n",
        "##\n",
        "Write a program that simulates flipping a coin 10 times and counts the number of heads and tails."
      ]
    },
    {
      "cell_type": "code",
      "execution_count": null,
      "id": "fa913d54-e434-48ae-b33e-ed113424d734",
      "metadata": {
        "id": "fa913d54-e434-48ae-b33e-ed113424d734",
        "outputId": "35a75fe2-1a8c-4894-dfe9-f9d26c1ca279"
      },
      "outputs": [
        {
          "name": "stdout",
          "output_type": "stream",
          "text": [
            "Heads\n",
            "Heads\n",
            "Tails\n",
            "Heads\n",
            "Heads\n",
            "Heads\n",
            "Tails\n",
            "Tails\n",
            "Tails\n",
            "Tails\n",
            "\n",
            "Total Heads: 5\n",
            "Total Tails: 5\n"
          ]
        }
      ],
      "source": [
        "import random\n",
        "\n",
        "# Possible outcomes of a coin flip\n",
        "coin_sides = [\"Heads\", \"Tails\"]\n",
        "\n",
        "# Initialize counters\n",
        "heads_count = 0\n",
        "tails_count = 0\n",
        "\n",
        "# Simulate 10 coin flips\n",
        "for _ in range(10):\n",
        "    result = random.choice(coin_sides)  # Randomly pick Heads or Tails\n",
        "    print(result)  # Display each flip\n",
        "    if result == \"Heads\":\n",
        "        heads_count += 1\n",
        "    else:\n",
        "        tails_count += 1\n",
        "\n",
        "# Display final counts\n",
        "print(f\"\\nTotal Heads: {heads_count}\")\n",
        "print(f\"Total Tails: {tails_count}\")\n"
      ]
    },
    {
      "cell_type": "markdown",
      "id": "78903108-ed5c-4b3b-8199-0dc78375c566",
      "metadata": {
        "id": "78903108-ed5c-4b3b-8199-0dc78375c566"
      },
      "source": [
        "## Q7: Write a Python program to calculate the sum of a geometric progression sequence defined by the formula (n² / 2). The program should take two inputs:\n",
        "##\n",
        "A starting number of the sequence.##\n",
        "\n",
        "The number of terms (n) in the sequenc## e.\n",
        "\n",
        "The program should compute and print the sum of the sequence."
      ]
    },
    {
      "cell_type": "code",
      "execution_count": null,
      "id": "ddb8ed3a-c78d-44a0-911f-436f3e8c27a7",
      "metadata": {
        "id": "ddb8ed3a-c78d-44a0-911f-436f3e8c27a7",
        "outputId": "e54fd149-801f-4652-93f5-d50c0904b3fb"
      },
      "outputs": [
        {
          "name": "stdout",
          "output_type": "stream",
          "text": [
            "Starting number is : 6\n",
            "Number of terms is :  5 \n",
            "The sum of the sequence is: 165.0\n"
          ]
        }
      ],
      "source": [
        "# Input values\n",
        "start = int(input(\"Enter the starting number of the sequence: \"))  # Starting number\n",
        "n = int(input(\"Enter the number of terms: \"))  # Number of terms in the sequence\n",
        "\n",
        "print(f\"Starting number is : {start}\")\n",
        "print(f\"Number of terms is :  {n} \")\n",
        "\n",
        "total_sum = 0\n",
        "for i in range(n):\n",
        "    term = (start ** 2) / 2\n",
        "    total_sum += term\n",
        "    start += 1  # Increment the starting number for the next term\n",
        "\n",
        "# Display the result\n",
        "\n",
        "print(f\"The sum of the sequence is: {total_sum}\")"
      ]
    },
    {
      "cell_type": "markdown",
      "id": "bc37cfe7-0f88-4826-a7b9-506ce9a39265",
      "metadata": {
        "id": "bc37cfe7-0f88-4826-a7b9-506ce9a39265"
      },
      "source": [
        "## Q8. Write a program to check whether the number is a palindrome or not. Use the input()\n",
        "method to get a number from the user\n",
        "## A palindrome number is a number that remains the same when its digits are reversed. In other words, it reads the same forward and backward.."
      ]
    },
    {
      "cell_type": "code",
      "execution_count": null,
      "id": "fe474dea-9989-47c5-80a1-3ab5568fd3e0",
      "metadata": {
        "id": "fe474dea-9989-47c5-80a1-3ab5568fd3e0",
        "outputId": "e6d45e9a-0ce0-4db0-d245-43170d4292d3"
      },
      "outputs": [
        {
          "name": "stdout",
          "output_type": "stream",
          "text": [
            "121 is a palindrome.\n"
          ]
        }
      ],
      "source": [
        "x = int(input(\"Enter an integer: \")) # Input from the user\n",
        "original_num = x\n",
        "rev_num = 0\n",
        "\n",
        "while x > 0:\n",
        "    digit = x % 10                  # For extracting the last digit of the number input by the user (mod operator gives the remainder after applying division)\n",
        "    rev_num = rev_num * 10 + digit  # Append digit variable value to rev_num variable\n",
        "    x //= 10                        # Remove the last digit (for example if 121 is input then 121 // 10 = 12, which is actually the floor vale after division)\n",
        "\n",
        "if (rev_num == original_num):\n",
        "    print(f\"{original_num} is a palindrome.\")\n",
        "else:\n",
        "    print(f\"{original_num} is not a palindrome.\")"
      ]
    },
    {
      "cell_type": "code",
      "execution_count": null,
      "id": "7f4bad9f-0400-4c1e-bc42-8921901050b2",
      "metadata": {
        "id": "7f4bad9f-0400-4c1e-bc42-8921901050b2"
      },
      "outputs": [],
      "source": []
    }
  ],
  "metadata": {
    "kernelspec": {
      "display_name": "base",
      "language": "python",
      "name": "python3"
    },
    "language_info": {
      "codemirror_mode": {
        "name": "ipython",
        "version": 3
      },
      "file_extension": ".py",
      "mimetype": "text/x-python",
      "name": "python",
      "nbconvert_exporter": "python",
      "pygments_lexer": "ipython3",
      "version": "3.12.7"
    },
    "colab": {
      "provenance": []
    }
  },
  "nbformat": 4,
  "nbformat_minor": 5
}